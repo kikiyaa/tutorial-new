{
 "cells": [
  {
   "cell_type": "markdown",
   "metadata": {},
   "source": [
    "### VGG16 사전 학습 모델과 Cloud-IMVN1.0 구름 데이터셋을 이용하여 \n",
    "### My Own Cloud Images 분류하기 (msjoh, 2020.08.15.)"
   ]
  },
  {
   "cell_type": "markdown",
   "metadata": {},
   "source": [
    "## 1. 사전 학습 모델 불러오기"
   ]
  },
  {
   "cell_type": "code",
   "execution_count": 1,
   "metadata": {},
   "outputs": [],
   "source": [
    "from tensorflow.keras.applications.vgg16 import VGG16  \n",
    "#from keras.applications.vgg16 import VGG16  "
   ]
  },
  {
   "cell_type": "code",
   "execution_count": 2,
   "metadata": {},
   "outputs": [],
   "source": [
    "# 사전 학습 모델 전체 불러오기\n",
    "vgg16 = VGG16()"
   ]
  },
  {
   "cell_type": "code",
   "execution_count": 3,
   "metadata": {},
   "outputs": [
    {
     "name": "stdout",
     "output_type": "stream",
     "text": [
      "Model: \"vgg16\"\n",
      "_________________________________________________________________\n",
      "Layer (type)                 Output Shape              Param #   \n",
      "=================================================================\n",
      "input_1 (InputLayer)         [(None, 224, 224, 3)]     0         \n",
      "_________________________________________________________________\n",
      "block1_conv1 (Conv2D)        (None, 224, 224, 64)      1792      \n",
      "_________________________________________________________________\n",
      "block1_conv2 (Conv2D)        (None, 224, 224, 64)      36928     \n",
      "_________________________________________________________________\n",
      "block1_pool (MaxPooling2D)   (None, 112, 112, 64)      0         \n",
      "_________________________________________________________________\n",
      "block2_conv1 (Conv2D)        (None, 112, 112, 128)     73856     \n",
      "_________________________________________________________________\n",
      "block2_conv2 (Conv2D)        (None, 112, 112, 128)     147584    \n",
      "_________________________________________________________________\n",
      "block2_pool (MaxPooling2D)   (None, 56, 56, 128)       0         \n",
      "_________________________________________________________________\n",
      "block3_conv1 (Conv2D)        (None, 56, 56, 256)       295168    \n",
      "_________________________________________________________________\n",
      "block3_conv2 (Conv2D)        (None, 56, 56, 256)       590080    \n",
      "_________________________________________________________________\n",
      "block3_conv3 (Conv2D)        (None, 56, 56, 256)       590080    \n",
      "_________________________________________________________________\n",
      "block3_pool (MaxPooling2D)   (None, 28, 28, 256)       0         \n",
      "_________________________________________________________________\n",
      "block4_conv1 (Conv2D)        (None, 28, 28, 512)       1180160   \n",
      "_________________________________________________________________\n",
      "block4_conv2 (Conv2D)        (None, 28, 28, 512)       2359808   \n",
      "_________________________________________________________________\n",
      "block4_conv3 (Conv2D)        (None, 28, 28, 512)       2359808   \n",
      "_________________________________________________________________\n",
      "block4_pool (MaxPooling2D)   (None, 14, 14, 512)       0         \n",
      "_________________________________________________________________\n",
      "block5_conv1 (Conv2D)        (None, 14, 14, 512)       2359808   \n",
      "_________________________________________________________________\n",
      "block5_conv2 (Conv2D)        (None, 14, 14, 512)       2359808   \n",
      "_________________________________________________________________\n",
      "block5_conv3 (Conv2D)        (None, 14, 14, 512)       2359808   \n",
      "_________________________________________________________________\n",
      "block5_pool (MaxPooling2D)   (None, 7, 7, 512)         0         \n",
      "_________________________________________________________________\n",
      "flatten (Flatten)            (None, 25088)             0         \n",
      "_________________________________________________________________\n",
      "fc1 (Dense)                  (None, 4096)              102764544 \n",
      "_________________________________________________________________\n",
      "fc2 (Dense)                  (None, 4096)              16781312  \n",
      "_________________________________________________________________\n",
      "predictions (Dense)          (None, 1000)              4097000   \n",
      "=================================================================\n",
      "Total params: 138,357,544\n",
      "Trainable params: 138,357,544\n",
      "Non-trainable params: 0\n",
      "_________________________________________________________________\n"
     ]
    }
   ],
   "source": [
    "# 모델 요약 확인하기 (사전 모델 전체)\n",
    "vgg16.summary()"
   ]
  },
  {
   "cell_type": "code",
   "execution_count": 4,
   "metadata": {},
   "outputs": [],
   "source": [
    "# 사전 학습 모델 불러오기 (일부)\n",
    "vgg16_2 = VGG16(include_top=False, input_shape=(224,224,3))"
   ]
  },
  {
   "cell_type": "code",
   "execution_count": 5,
   "metadata": {},
   "outputs": [
    {
     "name": "stdout",
     "output_type": "stream",
     "text": [
      "Model: \"vgg16\"\n",
      "_________________________________________________________________\n",
      "Layer (type)                 Output Shape              Param #   \n",
      "=================================================================\n",
      "input_2 (InputLayer)         [(None, 224, 224, 3)]     0         \n",
      "_________________________________________________________________\n",
      "block1_conv1 (Conv2D)        (None, 224, 224, 64)      1792      \n",
      "_________________________________________________________________\n",
      "block1_conv2 (Conv2D)        (None, 224, 224, 64)      36928     \n",
      "_________________________________________________________________\n",
      "block1_pool (MaxPooling2D)   (None, 112, 112, 64)      0         \n",
      "_________________________________________________________________\n",
      "block2_conv1 (Conv2D)        (None, 112, 112, 128)     73856     \n",
      "_________________________________________________________________\n",
      "block2_conv2 (Conv2D)        (None, 112, 112, 128)     147584    \n",
      "_________________________________________________________________\n",
      "block2_pool (MaxPooling2D)   (None, 56, 56, 128)       0         \n",
      "_________________________________________________________________\n",
      "block3_conv1 (Conv2D)        (None, 56, 56, 256)       295168    \n",
      "_________________________________________________________________\n",
      "block3_conv2 (Conv2D)        (None, 56, 56, 256)       590080    \n",
      "_________________________________________________________________\n",
      "block3_conv3 (Conv2D)        (None, 56, 56, 256)       590080    \n",
      "_________________________________________________________________\n",
      "block3_pool (MaxPooling2D)   (None, 28, 28, 256)       0         \n",
      "_________________________________________________________________\n",
      "block4_conv1 (Conv2D)        (None, 28, 28, 512)       1180160   \n",
      "_________________________________________________________________\n",
      "block4_conv2 (Conv2D)        (None, 28, 28, 512)       2359808   \n",
      "_________________________________________________________________\n",
      "block4_conv3 (Conv2D)        (None, 28, 28, 512)       2359808   \n",
      "_________________________________________________________________\n",
      "block4_pool (MaxPooling2D)   (None, 14, 14, 512)       0         \n",
      "_________________________________________________________________\n",
      "block5_conv1 (Conv2D)        (None, 14, 14, 512)       2359808   \n",
      "_________________________________________________________________\n",
      "block5_conv2 (Conv2D)        (None, 14, 14, 512)       2359808   \n",
      "_________________________________________________________________\n",
      "block5_conv3 (Conv2D)        (None, 14, 14, 512)       2359808   \n",
      "_________________________________________________________________\n",
      "block5_pool (MaxPooling2D)   (None, 7, 7, 512)         0         \n",
      "=================================================================\n",
      "Total params: 14,714,688\n",
      "Trainable params: 14,714,688\n",
      "Non-trainable params: 0\n",
      "_________________________________________________________________\n"
     ]
    }
   ],
   "source": [
    "# 사전 학습 모델 요약보기\n",
    "vgg16_2.summary()"
   ]
  },
  {
   "cell_type": "markdown",
   "metadata": {},
   "source": [
    "## 2.1 모델 편집"
   ]
  },
  {
   "cell_type": "markdown",
   "metadata": {},
   "source": [
    "### 2.1.1 사용할 패키지 불러오기"
   ]
  },
  {
   "cell_type": "code",
   "execution_count": 6,
   "metadata": {},
   "outputs": [],
   "source": [
    "## 사용할 패키지 불러오기\n",
    "\n",
    "# 모델 만들기\n",
    "from tensorflow.keras.models import Sequential\n",
    "from tensorflow.keras.layers import Dense, Dropout, Flatten\n",
    "\n",
    "# 모델 컴파일\n",
    "from tensorflow.keras.optimizers import SGD\n",
    "\n",
    "# 생성기 만들기\n",
    "from tensorflow.keras.preprocessing.image import ImageDataGenerator\n",
    "from tensorflow.keras.applications.vgg16 import preprocess_input\n",
    "\n",
    "# 모델 학습시키기\n",
    "import os\n",
    "from datetime import datetime\n",
    "\n",
    "# 모델 저장하기\n",
    "import json\n",
    "import pickle\n",
    "\n",
    "# 에포크 계산\n",
    "import math\n",
    "\n",
    "# CallBack 만들기\n",
    "from tensorflow.keras.callbacks import ModelCheckpoint, CSVLogger\n",
    "\n",
    "# 학습 과정 가시화\n",
    "import matplotlib.pyplot as plt\n",
    "%matplotlib inline\n",
    "\n",
    "# 예측 결과 출력\n",
    "from numpy import argmax"
   ]
  },
  {
   "cell_type": "markdown",
   "metadata": {},
   "source": [
    "### 2.1.2  모델 만들기"
   ]
  },
  {
   "cell_type": "code",
   "execution_count": 7,
   "metadata": {},
   "outputs": [],
   "source": [
    "# 모델 만들기\n",
    "#from tensorflow.python.keras.models import Sequential  \n",
    "#from tensorflow.python.keras.layers import Dense, Dropout, Flatten  \n",
    "\n",
    "# 모델을 편집해서 네트워크를 생성할 함수 정의\n",
    "def build_transfer_model(vgg16):\n",
    "    \n",
    "    # 호출한 모델을 사용해서 새로운 모델 작성\n",
    "    model = Sequential(vgg16.layers)\n",
    "    \n",
    "    # 호출한 가중치의 일부는 재학습하지 않도록 설정\n",
    "    # 여기서는 추가한 층과 출력층에 가까운 층의 가중치만 재학습\n",
    "    for layer in model.layers[:15]:\n",
    "        layer.trainable = False       # 15층까지는 재학습하지 않음\n",
    "        \n",
    "    # 추가할 출력 부분의 층을 구축\n",
    "    model.add(Flatten())\n",
    "    model.add(Dense(256, activation='relu'))\n",
    "    model.add(Dropout(0.5))   \n",
    "    model.add(Dense(6, activation='softmax'))   # 분류 클래스가 6개\n",
    "    #model.add(Dense(1, activation='sigmoid'))   # 분류 클래스가 1개\n",
    "    \n",
    "    return model\n",
    "\n",
    "# 정의한 함수를 호출해서 네트워크를 생성 (새로운 모델 구축)\n",
    "model = build_transfer_model(vgg16_2)"
   ]
  },
  {
   "cell_type": "code",
   "execution_count": 8,
   "metadata": {},
   "outputs": [
    {
     "name": "stdout",
     "output_type": "stream",
     "text": [
      "Model: \"sequential\"\n",
      "_________________________________________________________________\n",
      "Layer (type)                 Output Shape              Param #   \n",
      "=================================================================\n",
      "block1_conv1 (Conv2D)        (None, 224, 224, 64)      1792      \n",
      "_________________________________________________________________\n",
      "block1_conv2 (Conv2D)        (None, 224, 224, 64)      36928     \n",
      "_________________________________________________________________\n",
      "block1_pool (MaxPooling2D)   (None, 112, 112, 64)      0         \n",
      "_________________________________________________________________\n",
      "block2_conv1 (Conv2D)        (None, 112, 112, 128)     73856     \n",
      "_________________________________________________________________\n",
      "block2_conv2 (Conv2D)        (None, 112, 112, 128)     147584    \n",
      "_________________________________________________________________\n",
      "block2_pool (MaxPooling2D)   (None, 56, 56, 128)       0         \n",
      "_________________________________________________________________\n",
      "block3_conv1 (Conv2D)        (None, 56, 56, 256)       295168    \n",
      "_________________________________________________________________\n",
      "block3_conv2 (Conv2D)        (None, 56, 56, 256)       590080    \n",
      "_________________________________________________________________\n",
      "block3_conv3 (Conv2D)        (None, 56, 56, 256)       590080    \n",
      "_________________________________________________________________\n",
      "block3_pool (MaxPooling2D)   (None, 28, 28, 256)       0         \n",
      "_________________________________________________________________\n",
      "block4_conv1 (Conv2D)        (None, 28, 28, 512)       1180160   \n",
      "_________________________________________________________________\n",
      "block4_conv2 (Conv2D)        (None, 28, 28, 512)       2359808   \n",
      "_________________________________________________________________\n",
      "block4_conv3 (Conv2D)        (None, 28, 28, 512)       2359808   \n",
      "_________________________________________________________________\n",
      "block4_pool (MaxPooling2D)   (None, 14, 14, 512)       0         \n",
      "_________________________________________________________________\n",
      "block5_conv1 (Conv2D)        (None, 14, 14, 512)       2359808   \n",
      "_________________________________________________________________\n",
      "block5_conv2 (Conv2D)        (None, 14, 14, 512)       2359808   \n",
      "_________________________________________________________________\n",
      "block5_conv3 (Conv2D)        (None, 14, 14, 512)       2359808   \n",
      "_________________________________________________________________\n",
      "block5_pool (MaxPooling2D)   (None, 7, 7, 512)         0         \n",
      "_________________________________________________________________\n",
      "flatten (Flatten)            (None, 25088)             0         \n",
      "_________________________________________________________________\n",
      "dense (Dense)                (None, 256)               6422784   \n",
      "_________________________________________________________________\n",
      "dropout (Dropout)            (None, 256)               0         \n",
      "_________________________________________________________________\n",
      "dense_1 (Dense)              (None, 6)                 1542      \n",
      "=================================================================\n",
      "Total params: 21,139,014\n",
      "Trainable params: 11,143,942\n",
      "Non-trainable params: 9,995,072\n",
      "_________________________________________________________________\n"
     ]
    }
   ],
   "source": [
    "# 전이 학습 모델 요약보기\n",
    "model.summary()"
   ]
  },
  {
   "cell_type": "markdown",
   "metadata": {},
   "source": [
    "##### Gradient Descent Optimization Algorithms : SGD, Adagrad, RMSProp, AdaDelta, Adam \n",
    "##### http://shuuki4.github.io/deep_learning/2016/05/20/Gradient-Descent-Algorithm-Overview.html"
   ]
  },
  {
   "cell_type": "markdown",
   "metadata": {},
   "source": [
    "### 2.1.3 모델 컴파일"
   ]
  },
  {
   "cell_type": "code",
   "execution_count": 9,
   "metadata": {},
   "outputs": [],
   "source": [
    "# 모델 컴파일\n",
    "#from tensorflow.python.keras.optimizers import SGD  \n",
    "\n",
    "model.compile(  \n",
    "    loss='sparse_categorical_crossentropy',\n",
    "    optimizer=SGD(lr=1e-4, momentum=0.9),  # lr: 학습률, momentum: 관성\n",
    "    metrics=['accuracy']\n",
    ")"
   ]
  },
  {
   "cell_type": "markdown",
   "metadata": {},
   "source": [
    "### 2.1.4 생성기(generator) 생성"
   ]
  },
  {
   "cell_type": "code",
   "execution_count": 10,
   "metadata": {},
   "outputs": [],
   "source": [
    "# 생성기 생성\n",
    "#from tensorflow.python.keras.preprocessing.image import ImageDataGenerator  \n",
    "#from tensorflow.python.keras.applications.vgg16 import preprocess_input  \n",
    "\n",
    "# 학습용 이미지를 읽어 들이기 위한 생성기 생성\n",
    "# 스케일 변환과 데이터 확장의 인수를 지정\n",
    "idg_train = ImageDataGenerator(\n",
    "    rescale=1/255.,\n",
    "    shear_range=0.1,\n",
    "    zoom_range=0.1,\n",
    "    horizontal_flip=True,\n",
    "    preprocessing_function=preprocess_input\n",
    ")"
   ]
  },
  {
   "cell_type": "markdown",
   "metadata": {},
   "source": [
    "### 2.1.5 반복기(iterator) 생성"
   ]
  },
  {
   "cell_type": "code",
   "execution_count": 11,
   "metadata": {},
   "outputs": [
    {
     "name": "stdout",
     "output_type": "stream",
     "text": [
      "Found 1680 images belonging to 6 classes.\n",
      "Found 360 images belonging to 6 classes.\n",
      "Found 60 images belonging to 6 classes.\n"
     ]
    }
   ],
   "source": [
    "# 훈련/검증/시험용 이미지를 읽어 들이기 위한 반복기 생성\n",
    "\n",
    "# 훈련용 데이터 (학습할 때 이용)\n",
    "img_itr_train = idg_train.flow_from_directory(\n",
    "    './Cloud-ImVN 1.0_msjoh/Swimcat-extend/train',\n",
    "    target_size=(224, 224),\n",
    "    #batch_size=16,\n",
    "    batch_size=8,\n",
    "    class_mode='binary'\n",
    ")\n",
    "\n",
    "# 검증용 데이터 (학습할 때 이용)\n",
    "img_itr_validation = idg_train.flow_from_directory(\n",
    "    './Cloud-ImVN 1.0_msjoh/Swimcat-extend/validation',\n",
    "    target_size=(224, 224),\n",
    "    #batch_size=16,\n",
    "    batch_size=8,\n",
    "    class_mode='binary'\n",
    ")\n",
    "\n",
    "# 시험용 데이터 (예측할 때 이용)\n",
    "img_itr_test = idg_train.flow_from_directory(\n",
    "    './Cloud-ImVN 1.0_msjoh/Swimcat-extend/test',\n",
    "    target_size=(224, 224),\n",
    "    #batch_size=16,\n",
    "    batch_size=8,\n",
    "    class_mode='binary'\n",
    ")"
   ]
  },
  {
   "cell_type": "markdown",
   "metadata": {},
   "source": [
    "## 2.2 모델 학습"
   ]
  },
  {
   "cell_type": "markdown",
   "metadata": {},
   "source": [
    "### 2.2.1 저장 폴더 준비"
   ]
  },
  {
   "cell_type": "code",
   "execution_count": 12,
   "metadata": {},
   "outputs": [],
   "source": [
    "#import os\n",
    "#from datetime import datetime"
   ]
  },
  {
   "cell_type": "code",
   "execution_count": 13,
   "metadata": {},
   "outputs": [
    {
     "name": "stdout",
     "output_type": "stream",
     "text": [
      "model_dir: models/220218_0621\n",
      "dir_weights: models/220218_0621/weights\n"
     ]
    }
   ],
   "source": [
    "# 훈련 중에 모델과 가중치를 저장할 폴더 준비\n",
    "model_dir = os.path.join('models', \n",
    "            datetime.now().strftime('%y%m%d_%H%M')\n",
    ")\n",
    "                                    \n",
    "# 저장할 모델 폴더 이름 표시\n",
    "os.makedirs(model_dir, exist_ok=True)\n",
    "print('model_dir:', model_dir)\n",
    "                         \n",
    "dir_weights = os.path.join(model_dir, 'weights')\n",
    "\n",
    "# 저장할 가중치 폴더 이름 표시\n",
    "os.makedirs(dir_weights, exist_ok=True)\n",
    "print('dir_weights:', dir_weights)                        "
   ]
  },
  {
   "cell_type": "markdown",
   "metadata": {},
   "source": [
    "### 2.2.2 모델과 정답 저장"
   ]
  },
  {
   "cell_type": "code",
   "execution_count": 14,
   "metadata": {},
   "outputs": [],
   "source": [
    "#import json\n",
    "#import pickle"
   ]
  },
  {
   "cell_type": "code",
   "execution_count": 15,
   "metadata": {},
   "outputs": [],
   "source": [
    "# 모델 저장\n",
    "model_json = os.path.join(model_dir, 'model.json')\n",
    "with open(model_json, 'w') as f:\n",
    "    json.dump(model.to_json(), f)\n",
    "    \n",
    "# 학습할 때의 클래스 레이블(정답 레이블) 저장\n",
    "model_classes = os.path.join(model_dir, 'classes.pkl')\n",
    "with open(model_classes, 'wb') as f:\n",
    "    pickle.dump(img_itr_train.class_indices, f)"
   ]
  },
  {
   "cell_type": "markdown",
   "metadata": {},
   "source": [
    "### 2.2.3 미니 배치 사이즈 결정"
   ]
  },
  {
   "cell_type": "code",
   "execution_count": 16,
   "metadata": {},
   "outputs": [],
   "source": [
    "#import math"
   ]
  },
  {
   "cell_type": "code",
   "execution_count": 17,
   "metadata": {},
   "outputs": [],
   "source": [
    "# 미니 배치를 몇 개 학습하면 1 epoch이 되는지 계산 (학습할 때 지정할 필요가 있음)\n",
    "#batch_size = 16\n",
    "batch_size=8\n",
    "steps_per_epoch = math.ceil(\n",
    "    img_itr_train.samples/batch_size\n",
    ")\n",
    "validation_steps = math.ceil(\n",
    "    img_itr_validation.samples/batch_size\n",
    ")"
   ]
  },
  {
   "cell_type": "markdown",
   "metadata": {},
   "source": [
    "### 2.2.4  콜백 설정"
   ]
  },
  {
   "cell_type": "code",
   "execution_count": 18,
   "metadata": {},
   "outputs": [],
   "source": [
    "#from tensorflow.python.keras.callbacks import ModelCheckpoint, CSVLogger  \n",
    "#from keras.callbacks import ModelCheckpoint, CSVLogger  "
   ]
  },
  {
   "cell_type": "code",
   "execution_count": 19,
   "metadata": {},
   "outputs": [],
   "source": [
    "# 콜백을 생성하고 설정\n",
    "\n",
    "cp_filepath = os.path.join(dir_weights, 'ep_{epoch:02d}_ls_{loss:.1f}.h5')\n",
    "\n",
    "cp = ModelCheckpoint(\n",
    "                     cp_filepath,\n",
    "                     monitor='loss', verbose=0,\n",
    "                     save_best_only=False, save_weights_only=True,\n",
    "                     mode='auto',\n",
    "                     save_freq=5\n",
    "                     )\n",
    "\n",
    "csv_filepath = os.path.join(model_dir, 'loss.csv')\n",
    "csv = CSVLogger(csv_filepath, append=True)"
   ]
  },
  {
   "cell_type": "markdown",
   "metadata": {},
   "source": [
    "### 2.2.5 학습 및 검증"
   ]
  },
  {
   "cell_type": "code",
   "execution_count": 20,
   "metadata": {
    "scrolled": false
   },
   "outputs": [
    {
     "name": "stdout",
     "output_type": "stream",
     "text": [
      "Epoch 1/5\n",
      "210/210 [==============================] - 88s 419ms/step - loss: 1.2983 - accuracy: 0.4583 - val_loss: 0.8710 - val_accuracy: 0.6361\n",
      "Epoch 2/5\n",
      "210/210 [==============================] - 72s 344ms/step - loss: 0.8342 - accuracy: 0.6482 - val_loss: 0.7342 - val_accuracy: 0.7528\n",
      "Epoch 3/5\n",
      "210/210 [==============================] - 72s 345ms/step - loss: 0.6958 - accuracy: 0.7161 - val_loss: 0.6137 - val_accuracy: 0.7139\n",
      "Epoch 4/5\n",
      "210/210 [==============================] - 73s 346ms/step - loss: 0.5643 - accuracy: 0.8071 - val_loss: 0.4655 - val_accuracy: 0.8667\n",
      "Epoch 5/5\n",
      "210/210 [==============================] - 71s 339ms/step - loss: 0.4260 - accuracy: 0.8518 - val_loss: 0.3546 - val_accuracy: 0.8972\n"
     ]
    }
   ],
   "source": [
    "# 학습할 epoch 수 지정\n",
    "n_epoch = 5  \n",
    "\n",
    "# 모델 학습\n",
    "history = model.fit(\n",
    "    img_itr_train,\n",
    "    steps_per_epoch = steps_per_epoch,\n",
    "    epochs = n_epoch,\n",
    "    validation_data = img_itr_validation,\n",
    "    validation_steps = validation_steps,\n",
    "    callbacks = [cp, csv]\n",
    ")"
   ]
  },
  {
   "cell_type": "markdown",
   "metadata": {},
   "source": [
    "### 2.2.6 모델 저장 및 호출"
   ]
  },
  {
   "cell_type": "code",
   "execution_count": 22,
   "metadata": {},
   "outputs": [],
   "source": [
    "from tensorflow.keras.models import load_model\n",
    "\n",
    "# 모델 저장하기\n",
    "model.save('cloud6_model.h5')\n",
    "\n",
    "# 저장된 모델 호출하기\n",
    "# model = load_model('cloud6_model.h5')"
   ]
  },
  {
   "cell_type": "markdown",
   "metadata": {},
   "source": [
    "## 2.3 학습 과정 가시화"
   ]
  },
  {
   "cell_type": "code",
   "execution_count": 23,
   "metadata": {},
   "outputs": [
    {
     "data": {
      "image/png": "[encoded data removed]",
      "text/plain": [
       "<Figure size 864x288 with 2 Axes>"
      ]
     },
     "metadata": {
      "needs_background": "light"
     },
     "output_type": "display_data"
    }
   ],
   "source": [
    "#import matplotlib.pyplot as plt\n",
    "#%matplotlib inline\n",
    "\n",
    "# 그림 사이즈 결정하기\n",
    "plt.figure(figsize=(12,4))\n",
    "\n",
    "# 손실함수 그래프 그리기 (값이 작을수록 좋음 0.00~1.00 사이)\n",
    "plt.subplot(1,2,1)\n",
    "plt.plot(history.history['loss'], 'b-', label='loss')\n",
    "plt.plot(history.history['val_loss'], 'r--', label='val_loss')\n",
    "plt.xlabel('Epoch')\n",
    "plt.ylabel('Loss')\n",
    "plt.legend(loc='upper right')\n",
    "plt.axis([0, 30, 0, 1])\n",
    "plt.grid()\n",
    "\n",
    "# 정확도 그래프 그리기 (값이 클수록 좋음 0.00~1.00 사이)\n",
    "plt.subplot(1,2,2)\n",
    "plt.plot(history.history['accuracy'], 'g-', label='accuracy')\n",
    "plt.plot(history.history['val_accuracy'], 'k--', label='val_accuracy')\n",
    "plt.xlabel('Epoch')\n",
    "plt.ylabel('Accuracy')\n",
    "plt.ylim(0.7,1)\n",
    "plt.legend(loc='lower right')\n",
    "plt.axis([0, 30, 0, 1])\n",
    "plt.grid()\n",
    "\n",
    "plt.show()"
   ]
  },
  {
   "cell_type": "code",
   "execution_count": 24,
   "metadata": {},
   "outputs": [
    {
     "name": "stdout",
     "output_type": "stream",
     "text": [
      "Model Evaluate with Train data\n",
      "210/210 [==============================] - 50s 237ms/step - loss: 0.2884 - accuracy: 0.9292\n"
     ]
    },
    {
     "data": {
      "text/plain": [
       "[0.2883985936641693, 0.9291666746139526]"
      ]
     },
     "execution_count": 24,
     "metadata": {},
     "output_type": "execute_result"
    }
   ],
   "source": [
    "print('Model Evaluate with Train data')\n",
    "model.evaluate(img_itr_train)"
   ]
  },
  {
   "cell_type": "code",
   "execution_count": 25,
   "metadata": {},
   "outputs": [
    {
     "name": "stdout",
     "output_type": "stream",
     "text": [
      "Model Evaluate with Validation data\n",
      "45/45 [==============================] - 11s 234ms/step - loss: 0.3625 - accuracy: 0.9000\n"
     ]
    },
    {
     "data": {
      "text/plain": [
       "[0.3625173270702362, 0.8999999761581421]"
      ]
     },
     "execution_count": 25,
     "metadata": {},
     "output_type": "execute_result"
    }
   ],
   "source": [
    "print('Model Evaluate with Validation data')\n",
    "model.evaluate(img_itr_validation)"
   ]
  },
  {
   "cell_type": "code",
   "execution_count": 26,
   "metadata": {},
   "outputs": [
    {
     "name": "stdout",
     "output_type": "stream",
     "text": [
      "Model Evaluate with Test data\n",
      "8/8 [==============================] - 3s 404ms/step - loss: 0.2574 - accuracy: 0.9333\n"
     ]
    },
    {
     "data": {
      "text/plain": [
       "[0.2573736608028412, 0.9333333373069763]"
      ]
     },
     "execution_count": 26,
     "metadata": {},
     "output_type": "execute_result"
    }
   ],
   "source": [
    "print('Model Evaluate with Test data')\n",
    "model.evaluate(img_itr_test)"
   ]
  },
  {
   "cell_type": "markdown",
   "metadata": {},
   "source": [
    "## 2.4 모델 예측(추론) : 단일 이미지"
   ]
  },
  {
   "cell_type": "markdown",
   "metadata": {},
   "source": [
    "### 2.4.1 전이학습된 모델을 이용하여 예측할 대상 이미지 준비하기"
   ]
  },
  {
   "cell_type": "code",
   "execution_count": 28,
   "metadata": {},
   "outputs": [],
   "source": [
    "from tensorflow.keras.preprocessing.image import load_img  "
   ]
  },
  {
   "cell_type": "code",
   "execution_count": 29,
   "metadata": {},
   "outputs": [],
   "source": [
    "# 구름 분류\n",
    "class_name=['A - Clear Sky','B - Patterned Cloud','C - Thin White Clouds',\n",
    "            'D - Thick White Clouds','E - Thick Dark Clouds','F - Veil Clouds']"
   ]
  },
  {
   "cell_type": "code",
   "execution_count": 30,
   "metadata": {},
   "outputs": [
    {
     "data": {
      "image/png": "[encoded data removed]",
      "text/plain": [
       "<PIL.Image.Image image mode=RGB size=224x224 at 0x7F7BA0833B70>"
      ]
     },
     "execution_count": 30,
     "metadata": {},
     "output_type": "execute_result"
    }
   ],
   "source": [
    "# 클래스 예측 대상 clear sky 이미지 불러오기\n",
    "img_clear = load_img('./my_own_images/clear_and_cloudy/clear1.jfif', target_size=(224, 224))\n",
    "img_clear"
   ]
  },
  {
   "cell_type": "code",
   "execution_count": 31,
   "metadata": {},
   "outputs": [
    {
     "data": {
      "image/png": "[encoded data removed]",
      "text/plain": [
       "<PIL.Image.Image image mode=RGB size=224x224 at 0x7F7BA0833BA8>"
      ]
     },
     "execution_count": 31,
     "metadata": {},
     "output_type": "execute_result"
    }
   ],
   "source": [
    "# 클래스 예측 대상 cloud sky 이미지 불러오기\n",
    "img_cloudy = load_img('./my_own_images/clear_and_cloudy/cloudy1.jfif', target_size=(224, 224))\n",
    "img_cloudy"
   ]
  },
  {
   "cell_type": "code",
   "execution_count": 32,
   "metadata": {},
   "outputs": [
    {
     "name": "stdout",
     "output_type": "stream",
     "text": [
      "(224, 224, 3) (224, 224, 3)\n"
     ]
    }
   ],
   "source": [
    "from tensorflow.python.keras.preprocessing.image import img_to_array\n",
    "\n",
    "# 2차원 이미지 데이터를 1차원 배열로 변환하기\n",
    "arr_clear = img_to_array(img_clear)\n",
    "arr_cloudy = img_to_array(img_cloudy)\n",
    "print(arr_clear.shape, arr_cloudy.shape)"
   ]
  },
  {
   "cell_type": "code",
   "execution_count": 33,
   "metadata": {},
   "outputs": [],
   "source": [
    "from tensorflow.python.keras.applications.vgg16 import preprocess_input\n",
    "\n",
    "# 입력 데이터 전처리 (중심화 및 컬러 채널 순서 변경)\n",
    "arr_clear = preprocess_input(arr_clear)\n",
    "arr_cloudy = preprocess_input(arr_cloudy)"
   ]
  },
  {
   "cell_type": "code",
   "execution_count": 34,
   "metadata": {},
   "outputs": [],
   "source": [
    "import numpy as np\n",
    "\n",
    "# 입력 데이터 결합\n",
    "arr_input = np.stack([arr_clear, arr_cloudy])"
   ]
  },
  {
   "cell_type": "code",
   "execution_count": 35,
   "metadata": {},
   "outputs": [
    {
     "name": "stdout",
     "output_type": "stream",
     "text": [
      "shape of arr_input: (2, 224, 224, 3)\n"
     ]
    }
   ],
   "source": [
    "# 입력 데이터 모양 출력 \n",
    "print('shape of arr_input:', arr_input.shape)"
   ]
  },
  {
   "cell_type": "code",
   "execution_count": 36,
   "metadata": {},
   "outputs": [],
   "source": [
    "# 입력 데이터 클래스 예측 결과 산출\n",
    "probs = model.predict(arr_input)"
   ]
  },
  {
   "cell_type": "code",
   "execution_count": 37,
   "metadata": {},
   "outputs": [
    {
     "name": "stdout",
     "output_type": "stream",
     "text": [
      "shape of probs: (2, 6)\n"
     ]
    }
   ],
   "source": [
    "# 예측 결과 모양 출력\n",
    "print('shape of probs:', probs.shape)"
   ]
  },
  {
   "cell_type": "code",
   "execution_count": 38,
   "metadata": {},
   "outputs": [
    {
     "data": {
      "text/plain": [
       "array([[2.9181008e-10, 9.4378057e-24, 1.0000000e+00, 3.5072035e-13,\n",
       "        2.2556849e-30, 4.4780556e-27],\n",
       "       [0.0000000e+00, 0.0000000e+00, 1.0000000e+00, 0.0000000e+00,\n",
       "        0.0000000e+00, 0.0000000e+00]], dtype=float32)"
      ]
     },
     "execution_count": 38,
     "metadata": {},
     "output_type": "execute_result"
    }
   ],
   "source": [
    "# 예측 결과 출력\n",
    "probs"
   ]
  },
  {
   "cell_type": "code",
   "execution_count": 39,
   "metadata": {},
   "outputs": [
    {
     "data": {
      "text/plain": [
       "array([2.9181008e-10, 9.4378057e-24, 1.0000000e+00, 3.5072035e-13,\n",
       "       2.2556849e-30, 4.4780556e-27], dtype=float32)"
      ]
     },
     "execution_count": 39,
     "metadata": {},
     "output_type": "execute_result"
    }
   ],
   "source": [
    "# 예측 결과 출력\n",
    "probs[0]"
   ]
  },
  {
   "cell_type": "code",
   "execution_count": 40,
   "metadata": {},
   "outputs": [
    {
     "data": {
      "text/plain": [
       "array([0., 0., 1., 0., 0., 0.], dtype=float32)"
      ]
     },
     "execution_count": 40,
     "metadata": {},
     "output_type": "execute_result"
    }
   ],
   "source": [
    "# 예측 결과 출력\n",
    "probs[1]"
   ]
  },
  {
   "cell_type": "code",
   "execution_count": 41,
   "metadata": {},
   "outputs": [
    {
     "name": "stdout",
     "output_type": "stream",
     "text": [
      "    Prediction result :  2\n"
     ]
    }
   ],
   "source": [
    "# 예측 결과 출력\n",
    "print('    Prediction result : ', np.argmax(probs[0]))        "
   ]
  },
  {
   "cell_type": "code",
   "execution_count": 42,
   "metadata": {},
   "outputs": [
    {
     "name": "stdout",
     "output_type": "stream",
     "text": [
      "    Prediction result :  2\n"
     ]
    }
   ],
   "source": [
    "# 예측 결과 출력\n",
    "print('    Prediction result : ', np.argmax(probs[1]))       "
   ]
  },
  {
   "cell_type": "code",
   "execution_count": 43,
   "metadata": {},
   "outputs": [
    {
     "name": "stdout",
     "output_type": "stream",
     "text": [
      "    Prediction result :  C - Thin White Clouds\n"
     ]
    },
    {
     "data": {
      "image/png": "[encoded data removed]",
      "text/plain": [
       "<PIL.Image.Image image mode=RGB size=224x224 at 0x7F7BA0833B70>"
      ]
     },
     "execution_count": 43,
     "metadata": {},
     "output_type": "execute_result"
    }
   ],
   "source": [
    "# 예측 결과 출력\n",
    "print('    Prediction result : ', class_name[np.argmax(probs[0])])\n",
    "img_clear"
   ]
  },
  {
   "cell_type": "code",
   "execution_count": 44,
   "metadata": {},
   "outputs": [
    {
     "name": "stdout",
     "output_type": "stream",
     "text": [
      "    Prediction result :  C - Thin White Clouds\n"
     ]
    },
    {
     "data": {
      "image/png": "[encoded data removed]",
      "text/plain": [
       "<PIL.Image.Image image mode=RGB size=224x224 at 0x7F7BA0833BA8>"
      ]
     },
     "execution_count": 44,
     "metadata": {},
     "output_type": "execute_result"
    }
   ],
   "source": [
    "# 예측 결과 출력\n",
    "print('    Prediction result : ', class_name[np.argmax(probs[1])])\n",
    "img_cloudy"
   ]
  },
  {
   "cell_type": "markdown",
   "metadata": {},
   "source": [
    "## 2.5 모델 예측 (추론) : 다중 이미지"
   ]
  },
  {
   "cell_type": "markdown",
   "metadata": {},
   "source": [
    "### Clear Sky & Clouds Classification"
   ]
  },
  {
   "cell_type": "code",
   "execution_count": 45,
   "metadata": {},
   "outputs": [],
   "source": [
    "# 사용할 패키지 불러오기\n",
    "\n",
    "import numpy as np\n",
    "from numpy import argmax\n",
    "\n",
    "import glob\n",
    "from PIL import Image\n",
    "\n",
    "from tensorflow.python.keras.preprocessing.image import load_img, img_to_array\n",
    "from tensorflow.python.keras.applications.vgg16 import preprocess_input"
   ]
  },
  {
   "cell_type": "code",
   "execution_count": 46,
   "metadata": {},
   "outputs": [],
   "source": [
    "test_file = \"./my_own_images/clear_and_cloudy/*\"\n",
    "test_filelist = glob.glob(test_file)"
   ]
  },
  {
   "cell_type": "code",
   "execution_count": 47,
   "metadata": {
    "scrolled": true
   },
   "outputs": [
    {
     "name": "stdout",
     "output_type": "stream",
     "text": [
      "Test image number = 0     File name :  ./my_own_images/clear_and_cloudy/cloudy4.jfif\n",
      "    Prediction result :  2   /   Class :  C - Thin White Clouds\n",
      "\n",
      "Test image number = 1     File name :  ./my_own_images/clear_and_cloudy/clear3.jfif\n",
      "    Prediction result :  2   /   Class :  C - Thin White Clouds\n",
      "\n",
      "Test image number = 2     File name :  ./my_own_images/clear_and_cloudy/cloudy5.jfif\n",
      "    Prediction result :  2   /   Class :  C - Thin White Clouds\n",
      "\n",
      "Test image number = 3     File name :  ./my_own_images/clear_and_cloudy/clear4.jfif\n",
      "    Prediction result :  2   /   Class :  C - Thin White Clouds\n",
      "\n",
      "Test image number = 4     File name :  ./my_own_images/clear_and_cloudy/cloudy1.jfif\n",
      "    Prediction result :  2   /   Class :  C - Thin White Clouds\n",
      "\n",
      "Test image number = 5     File name :  ./my_own_images/clear_and_cloudy/clear1.jfif\n",
      "    Prediction result :  2   /   Class :  C - Thin White Clouds\n",
      "\n",
      "Test image number = 6     File name :  ./my_own_images/clear_and_cloudy/clear2.jfif\n",
      "    Prediction result :  2   /   Class :  C - Thin White Clouds\n",
      "\n",
      "Test image number = 7     File name :  ./my_own_images/clear_and_cloudy/cloudy3.jfif\n",
      "    Prediction result :  2   /   Class :  C - Thin White Clouds\n",
      "\n",
      "Test image number = 8     File name :  ./my_own_images/clear_and_cloudy/cloudy2.jfif\n",
      "    Prediction result :  2   /   Class :  C - Thin White Clouds\n",
      "\n",
      "Test image number = 9     File name :  ./my_own_images/clear_and_cloudy/clear5.jfif\n",
      "    Prediction result :  2   /   Class :  C - Thin White Clouds\n",
      "\n"
     ]
    }
   ],
   "source": [
    "for i in range(len(test_filelist)):    # 클래스 예측 대상 이미지 불러오기\n",
    "    img_test = load_img(test_filelist[i], target_size=(224, 224))\n",
    "    img_test\n",
    "    print('Test image number =',i,'    File name : ', test_filelist[i])\n",
    "   \n",
    "    # 2차원 이미지 데이터를 1차원 배열로 변환하기\n",
    "    arr_test = img_to_array(img_test)\n",
    "\n",
    "    # 입력 데이터 전처리 (중심화 및 컬러 채널 순서 변경)\n",
    "    arr_test = preprocess_input(arr_test)\n",
    "\n",
    "    # 입력 데이터 결합\n",
    "    arr_input = np.stack([arr_test])\n",
    "\n",
    "    # 입력 데이터 모양 출력 \n",
    "    #print('STEP = ', i, '   Shape of arr_input:', arr_input.shape)\n",
    "\n",
    "    # 입력 데이터 클래스 예측 결과 산출\n",
    "    probs = model.predict(arr_input)\n",
    "\n",
    "    # 예측 결과 모양 출력\n",
    "    #print('             Shape of probs:', probs.shape)\n",
    "\n",
    "    # 예측 결과 출력\n",
    "    probs  \n",
    "    print('    Prediction result : ', np.argmax(probs), '  /   Class : ', class_name[np.argmax(probs)])\n",
    "    print()"
   ]
  },
  {
   "cell_type": "code",
   "execution_count": 48,
   "metadata": {},
   "outputs": [
    {
     "data": {
      "text/plain": [
       "<Figure size 360x360 with 0 Axes>"
      ]
     },
     "metadata": {},
     "output_type": "display_data"
    },
    {
     "name": "stdout",
     "output_type": "stream",
     "text": [
      "0 C - Thin White Clouds\n",
      "1 C - Thin White Clouds\n",
      "2 C - Thin White Clouds\n",
      "3 C - Thin White Clouds\n",
      "4 C - Thin White Clouds\n",
      "5 C - Thin White Clouds\n",
      "6 C - Thin White Clouds\n",
      "7 C - Thin White Clouds\n",
      "8 C - Thin White Clouds\n",
      "9 C - Thin White Clouds\n"
     ]
    }
   ],
   "source": [
    "%matplotlib inline\n",
    "\n",
    "plt.figure(figsize=(5,5))\n",
    "\n",
    "for i in range(len(test_filelist)):        \n",
    "    #print(test_filelist[i])\n",
    "    \n",
    "    # 이미지 표시\n",
    "    #plt.subplot(2,5,i+1)    \n",
    "    plt.show(test_filelist[i])\n",
    "    # 클래스 표시\n",
    "    print(i, class_name[np.argmax(probs)])    "
   ]
  },
  {
   "cell_type": "markdown",
   "metadata": {},
   "source": [
    "## END"
   ]
  }
 ],
 "metadata": {
  "kernelspec": {
   "display_name": "Python 3",
   "language": "python",
   "name": "python3"
  },
  "language_info": {
   "codemirror_mode": {
    "name": "ipython",
    "version": 3
   },
   "file_extension": ".py",
   "mimetype": "text/x-python",
   "name": "python",
   "nbconvert_exporter": "python",
   "pygments_lexer": "ipython3",
   "version": "3.6.9"
  }
 },
 "nbformat": 4,
 "nbformat_minor": 4
}
